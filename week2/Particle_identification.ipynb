{
  "nbformat": 4,
  "nbformat_minor": 0,
  "metadata": {
    "colab": {
      "name": "Particle_identification.ipynb",
      "version": "0.3.2",
      "provenance": [],
      "toc_visible": true
    },
    "kernelspec": {
      "display_name": "Python 3",
      "language": "python",
      "name": "python3"
    }
  },
  "cells": [
    {
      "metadata": {
        "id": "sDYevjBF333f",
        "colab_type": "text"
      },
      "cell_type": "markdown",
      "source": [
        "# About\n",
        "\n",
        "In this programming assignment you will train a classifier to identify type of a particle. There are six particle types: electron, proton, muon, kaon, pion and ghost. Ghost is a particle with other type than the first five or a detector noise. \n",
        "\n",
        "Different particle types remain different responses in the detector systems or subdetectors. Thre are five systems: tracking system, ring imaging Cherenkov detector (RICH), electromagnetic and hadron calorimeters, and muon system.\n",
        "\n",
        "![pid](https://github.com/subhrajyotidasgupta/hadron-collider-machine-learning/blob/master/week2/pic/pid.jpg?raw=1)\n",
        "\n",
        "You task is to identify a particle type using the responses in the detector systems. \n",
        "\n",
        "# Attention\n",
        "\n",
        "Data files you should download from https://github.com/hse-aml/hadron-collider-machine-learning/releases/tag/Week_2"
      ]
    },
    {
      "metadata": {
        "id": "ALMlx7dZ333n",
        "colab_type": "code",
        "colab": {}
      },
      "cell_type": "code",
      "source": [
        "%matplotlib inline\n",
        "import matplotlib.pyplot as plt\n",
        "import pandas\n",
        "import numpy\n",
        "from sklearn.model_selection import train_test_split\n",
        "from sklearn.metrics import log_loss\n",
        "import utils"
      ],
      "execution_count": 0,
      "outputs": []
    },
    {
      "metadata": {
        "id": "MNY3yLlH333w",
        "colab_type": "text"
      },
      "cell_type": "markdown",
      "source": [
        "# Download data\n",
        "\n",
        "Download data used to train classifiers."
      ]
    },
    {
      "metadata": {
        "id": "yT6nSTnI3335",
        "colab_type": "text"
      },
      "cell_type": "markdown",
      "source": [
        "### Read training file"
      ]
    },
    {
      "metadata": {
        "id": "0bSk8AFs334A",
        "colab_type": "code",
        "colab": {}
      },
      "cell_type": "code",
      "source": [
        "data = pandas.read_csv('https://github.com/hse-aml/hadron-collider-machine-learning/releases/download/Week_2/training.csv.gz')"
      ],
      "execution_count": 0,
      "outputs": []
    },
    {
      "metadata": {
        "id": "ZYyIMl7q334O",
        "colab_type": "code",
        "outputId": "56a952aa-26c2-49a4-884e-17c99cbdc918",
        "colab": {
          "base_uri": "https://localhost:8080/",
          "height": 244
        }
      },
      "cell_type": "code",
      "source": [
        "data.head()"
      ],
      "execution_count": 4,
      "outputs": [
        {
          "output_type": "execute_result",
          "data": {
            "text/html": [
              "<div>\n",
              "<style scoped>\n",
              "    .dataframe tbody tr th:only-of-type {\n",
              "        vertical-align: middle;\n",
              "    }\n",
              "\n",
              "    .dataframe tbody tr th {\n",
              "        vertical-align: top;\n",
              "    }\n",
              "\n",
              "    .dataframe thead th {\n",
              "        text-align: right;\n",
              "    }\n",
              "</style>\n",
              "<table border=\"1\" class=\"dataframe\">\n",
              "  <thead>\n",
              "    <tr style=\"text-align: right;\">\n",
              "      <th></th>\n",
              "      <th>TrackP</th>\n",
              "      <th>TrackNDoFSubdetector2</th>\n",
              "      <th>BremDLLbeElectron</th>\n",
              "      <th>MuonLooseFlag</th>\n",
              "      <th>FlagSpd</th>\n",
              "      <th>SpdE</th>\n",
              "      <th>EcalDLLbeElectron</th>\n",
              "      <th>DLLmuon</th>\n",
              "      <th>RICHpFlagElectron</th>\n",
              "      <th>EcalDLLbeMuon</th>\n",
              "      <th>...</th>\n",
              "      <th>TrackNDoF</th>\n",
              "      <th>RICHpFlagMuon</th>\n",
              "      <th>RICH_DLLbeKaon</th>\n",
              "      <th>RICH_DLLbeElectron</th>\n",
              "      <th>HcalE</th>\n",
              "      <th>MuonFlag</th>\n",
              "      <th>FlagMuon</th>\n",
              "      <th>PrsE</th>\n",
              "      <th>RICH_DLLbeMuon</th>\n",
              "      <th>RICH_DLLbeProton</th>\n",
              "    </tr>\n",
              "  </thead>\n",
              "  <tbody>\n",
              "    <tr>\n",
              "      <th>0</th>\n",
              "      <td>74791.156263</td>\n",
              "      <td>15.0</td>\n",
              "      <td>0.232275</td>\n",
              "      <td>1.0</td>\n",
              "      <td>1.0</td>\n",
              "      <td>3.2</td>\n",
              "      <td>-2.505719</td>\n",
              "      <td>6.604153</td>\n",
              "      <td>1.0</td>\n",
              "      <td>1.929960</td>\n",
              "      <td>...</td>\n",
              "      <td>28.0</td>\n",
              "      <td>1.0</td>\n",
              "      <td>-7.213300</td>\n",
              "      <td>-0.280200</td>\n",
              "      <td>5586.589846</td>\n",
              "      <td>1.0</td>\n",
              "      <td>1.0</td>\n",
              "      <td>10.422315</td>\n",
              "      <td>-2.081143e-07</td>\n",
              "      <td>-24.824400</td>\n",
              "    </tr>\n",
              "    <tr>\n",
              "      <th>1</th>\n",
              "      <td>2738.489989</td>\n",
              "      <td>15.0</td>\n",
              "      <td>-0.357748</td>\n",
              "      <td>0.0</td>\n",
              "      <td>1.0</td>\n",
              "      <td>3.2</td>\n",
              "      <td>1.864351</td>\n",
              "      <td>0.263651</td>\n",
              "      <td>1.0</td>\n",
              "      <td>-2.061959</td>\n",
              "      <td>...</td>\n",
              "      <td>32.0</td>\n",
              "      <td>1.0</td>\n",
              "      <td>-0.324317</td>\n",
              "      <td>1.707283</td>\n",
              "      <td>-0.000007</td>\n",
              "      <td>0.0</td>\n",
              "      <td>1.0</td>\n",
              "      <td>43.334935</td>\n",
              "      <td>2.771583e+00</td>\n",
              "      <td>-0.648017</td>\n",
              "    </tr>\n",
              "    <tr>\n",
              "      <th>2</th>\n",
              "      <td>2161.409908</td>\n",
              "      <td>17.0</td>\n",
              "      <td>-999.000000</td>\n",
              "      <td>0.0</td>\n",
              "      <td>0.0</td>\n",
              "      <td>-999.0</td>\n",
              "      <td>-999.000000</td>\n",
              "      <td>-999.000000</td>\n",
              "      <td>0.0</td>\n",
              "      <td>-999.000000</td>\n",
              "      <td>...</td>\n",
              "      <td>27.0</td>\n",
              "      <td>0.0</td>\n",
              "      <td>-999.000000</td>\n",
              "      <td>-999.000000</td>\n",
              "      <td>-999.000000</td>\n",
              "      <td>0.0</td>\n",
              "      <td>0.0</td>\n",
              "      <td>-999.000000</td>\n",
              "      <td>-9.990000e+02</td>\n",
              "      <td>-999.000000</td>\n",
              "    </tr>\n",
              "    <tr>\n",
              "      <th>3</th>\n",
              "      <td>15277.730490</td>\n",
              "      <td>20.0</td>\n",
              "      <td>-0.638984</td>\n",
              "      <td>0.0</td>\n",
              "      <td>1.0</td>\n",
              "      <td>3.2</td>\n",
              "      <td>-2.533918</td>\n",
              "      <td>-8.724949</td>\n",
              "      <td>1.0</td>\n",
              "      <td>-3.253981</td>\n",
              "      <td>...</td>\n",
              "      <td>36.0</td>\n",
              "      <td>1.0</td>\n",
              "      <td>-35.202221</td>\n",
              "      <td>-14.742319</td>\n",
              "      <td>4482.803707</td>\n",
              "      <td>0.0</td>\n",
              "      <td>1.0</td>\n",
              "      <td>2.194175</td>\n",
              "      <td>-3.070819e+00</td>\n",
              "      <td>-29.291519</td>\n",
              "    </tr>\n",
              "    <tr>\n",
              "      <th>4</th>\n",
              "      <td>7563.700195</td>\n",
              "      <td>19.0</td>\n",
              "      <td>-0.638962</td>\n",
              "      <td>0.0</td>\n",
              "      <td>1.0</td>\n",
              "      <td>3.2</td>\n",
              "      <td>-2.087146</td>\n",
              "      <td>-7.060422</td>\n",
              "      <td>1.0</td>\n",
              "      <td>-0.995816</td>\n",
              "      <td>...</td>\n",
              "      <td>33.0</td>\n",
              "      <td>1.0</td>\n",
              "      <td>25.084287</td>\n",
              "      <td>-10.272412</td>\n",
              "      <td>5107.554680</td>\n",
              "      <td>0.0</td>\n",
              "      <td>1.0</td>\n",
              "      <td>0.000015</td>\n",
              "      <td>-5.373712e+00</td>\n",
              "      <td>23.653087</td>\n",
              "    </tr>\n",
              "  </tbody>\n",
              "</table>\n",
              "<p>5 rows × 50 columns</p>\n",
              "</div>"
            ],
            "text/plain": [
              "         TrackP  TrackNDoFSubdetector2  BremDLLbeElectron  MuonLooseFlag  \\\n",
              "0  74791.156263                   15.0           0.232275            1.0   \n",
              "1   2738.489989                   15.0          -0.357748            0.0   \n",
              "2   2161.409908                   17.0        -999.000000            0.0   \n",
              "3  15277.730490                   20.0          -0.638984            0.0   \n",
              "4   7563.700195                   19.0          -0.638962            0.0   \n",
              "\n",
              "   FlagSpd   SpdE  EcalDLLbeElectron     DLLmuon  RICHpFlagElectron  \\\n",
              "0      1.0    3.2          -2.505719    6.604153                1.0   \n",
              "1      1.0    3.2           1.864351    0.263651                1.0   \n",
              "2      0.0 -999.0        -999.000000 -999.000000                0.0   \n",
              "3      1.0    3.2          -2.533918   -8.724949                1.0   \n",
              "4      1.0    3.2          -2.087146   -7.060422                1.0   \n",
              "\n",
              "   EcalDLLbeMuon        ...         TrackNDoF  RICHpFlagMuon  RICH_DLLbeKaon  \\\n",
              "0       1.929960        ...              28.0            1.0       -7.213300   \n",
              "1      -2.061959        ...              32.0            1.0       -0.324317   \n",
              "2    -999.000000        ...              27.0            0.0     -999.000000   \n",
              "3      -3.253981        ...              36.0            1.0      -35.202221   \n",
              "4      -0.995816        ...              33.0            1.0       25.084287   \n",
              "\n",
              "   RICH_DLLbeElectron        HcalE  MuonFlag  FlagMuon        PrsE  \\\n",
              "0           -0.280200  5586.589846       1.0       1.0   10.422315   \n",
              "1            1.707283    -0.000007       0.0       1.0   43.334935   \n",
              "2         -999.000000  -999.000000       0.0       0.0 -999.000000   \n",
              "3          -14.742319  4482.803707       0.0       1.0    2.194175   \n",
              "4          -10.272412  5107.554680       0.0       1.0    0.000015   \n",
              "\n",
              "   RICH_DLLbeMuon  RICH_DLLbeProton  \n",
              "0   -2.081143e-07        -24.824400  \n",
              "1    2.771583e+00         -0.648017  \n",
              "2   -9.990000e+02       -999.000000  \n",
              "3   -3.070819e+00        -29.291519  \n",
              "4   -5.373712e+00         23.653087  \n",
              "\n",
              "[5 rows x 50 columns]"
            ]
          },
          "metadata": {
            "tags": []
          },
          "execution_count": 4
        }
      ]
    },
    {
      "metadata": {
        "id": "Zml8UJGn334d",
        "colab_type": "text"
      },
      "cell_type": "markdown",
      "source": [
        "### List of columns in the samples"
      ]
    },
    {
      "metadata": {
        "id": "CKvJV6uq334k",
        "colab_type": "text"
      },
      "cell_type": "markdown",
      "source": [
        "Here, **Spd** stands for Scintillating Pad Detector, **Prs** - Preshower, **Ecal** - electromagnetic calorimeter, **Hcal** - hadronic calorimeter, **Brem** denotes traces of the particles that were deflected by detector."
      ]
    },
    {
      "metadata": {
        "id": "rmcnV4kR334n",
        "colab_type": "text"
      },
      "cell_type": "markdown",
      "source": [
        "- ID - id value for tracks (presents only in the test file for the submitting purposes)\n",
        "- Label - string valued observable denoting particle types. Can take values \"Electron\", \"Muon\", \"Kaon\", \"Proton\", \"Pion\" and \"Ghost\". This column is absent in the test file.\n",
        "- FlagSpd - flag (0 or 1), if reconstructed track passes through Spd\n",
        "- FlagPrs - flag (0 or 1), if reconstructed track passes through Prs\n",
        "- FlagBrem - flag (0 or 1), if reconstructed track passes through Brem\n",
        "- FlagEcal - flag (0 or 1), if reconstructed track passes through Ecal\n",
        "- FlagHcal - flag (0 or 1), if reconstructed track passes through Hcal\n",
        "- FlagRICH1 - flag (0 or 1), if reconstructed track passes through the first RICH detector\n",
        "- FlagRICH2 - flag (0 or 1), if reconstructed track passes through the second RICH detector\n",
        "- FlagMuon - flag (0 or 1), if reconstructed track passes through muon stations (Muon)\n",
        "- SpdE - energy deposit associated to the track in the Spd\n",
        "- PrsE - energy deposit associated to the track in the Prs\n",
        "- EcalE - energy deposit associated to the track in the Hcal\n",
        "- HcalE - energy deposit associated to the track in the Hcal\n",
        "- PrsDLLbeElectron - delta log-likelihood for a particle candidate to be electron using information from Prs\n",
        "- BremDLLbeElectron - delta log-likelihood for a particle candidate to be electron using information from Brem\n",
        "- TrackP - particle momentum\n",
        "- TrackPt - particle transverse momentum\n",
        "- TrackNDoFSubdetector1  - number of degrees of freedom for track fit using hits in the tracking sub-detector1\n",
        "- TrackQualitySubdetector1 - chi2 quality of the track fit using hits in the tracking sub-detector1\n",
        "- TrackNDoFSubdetector2 - number of degrees of freedom for track fit using hits in the tracking sub-detector2\n",
        "- TrackQualitySubdetector2 - chi2 quality of the track fit using hits in the  tracking sub-detector2\n",
        "- TrackNDoF - number of degrees of freedom for track fit using hits in all tracking sub-detectors\n",
        "- TrackQualityPerNDoF - chi2 quality of the track fit per degree of freedom\n",
        "- TrackDistanceToZ - distance between track and z-axis (beam axis)\n",
        "- Calo2dFitQuality - quality of the 2d fit of the clusters in the calorimeter \n",
        "- Calo3dFitQuality - quality of the 3d fit in the calorimeter with assumption that particle was electron\n",
        "- EcalDLLbeElectron - delta log-likelihood for a particle candidate to be electron using information from Ecal\n",
        "- EcalDLLbeMuon - delta log-likelihood for a particle candidate to be muon using information from Ecal\n",
        "- EcalShowerLongitudinalParameter - longitudinal parameter of Ecal shower\n",
        "- HcalDLLbeElectron - delta log-likelihood for a particle candidate to be electron using information from Hcal\n",
        "- HcalDLLbeMuon - delta log-likelihood for a particle candidate to be using information from Hcal\n",
        "- RICHpFlagElectron - flag (0 or 1) if momentum is greater than threshold for electrons to produce Cherenkov light\n",
        "- RICHpFlagProton - flag (0 or 1) if momentum is greater than threshold for protons to produce Cherenkov light\n",
        "- RICHpFlagPion - flag (0 or 1) if momentum is greater than threshold for pions to produce Cherenkov light\n",
        "- RICHpFlagKaon - flag (0 or 1) if momentum is greater than threshold for kaons to produce Cherenkov light\n",
        "- RICHpFlagMuon - flag (0 or 1) if momentum is greater than threshold for muons to produce Cherenkov light\n",
        "- RICH_DLLbeBCK  - delta log-likelihood for a particle candidate to be background using information from RICH\n",
        "- RICH_DLLbeKaon - delta log-likelihood for a particle candidate to be kaon using information from RICH\n",
        "- RICH_DLLbeElectron - delta log-likelihood for a particle candidate to be electron using information from RICH\n",
        "- RICH_DLLbeMuon - delta log-likelihood for a particle candidate to be muon using information from RICH\n",
        "- RICH_DLLbeProton - delta log-likelihood for a particle candidate to be proton using information from RICH\n",
        "- MuonFlag - muon flag (is this track muon) which is determined from muon stations\n",
        "- MuonLooseFlag muon flag (is this track muon) which is determined from muon stations using looser criteria\n",
        "- MuonLLbeBCK - log-likelihood for a particle candidate to be not muon using information from muon stations\n",
        "- MuonLLbeMuon - log-likelihood for a particle candidate to be muon using information from muon stations\n",
        "- DLLelectron - delta log-likelihood for a particle candidate to be electron using information from all subdetectors\n",
        "- DLLmuon - delta log-likelihood for a particle candidate to be muon using information from all subdetectors\n",
        "- DLLkaon - delta log-likelihood for a particle candidate to be kaon using information from all subdetectors\n",
        "- DLLproton - delta log-likelihood for a particle candidate to be proton using information from all subdetectors\n",
        "- GhostProbability - probability for a particle candidate to be ghost track. This variable is an output of classification model used in the tracking algorithm."
      ]
    },
    {
      "metadata": {
        "id": "f57JLazL334q",
        "colab_type": "text"
      },
      "cell_type": "markdown",
      "source": [
        "Delta log-likelihood in the features descriptions means the difference between log-likelihood for the mass hypothesis that a given track is left by some particle (for example, electron) and log-likelihood for the mass hypothesis that a given track is left by a pion (so, DLLpion = 0 and thus we don't have these columns). This is done since most tracks (~80%) are left by pions and in practice we actually need to discriminate other particles from pions. In other words, the null hypothesis is that particle is a pion."
      ]
    },
    {
      "metadata": {
        "id": "e51KvEnM334u",
        "colab_type": "text"
      },
      "cell_type": "markdown",
      "source": [
        "### Look at the labels set\n",
        "\n",
        "The training data contains six classes. Each class corresponds to a particle type. Your task is to predict type of a particle."
      ]
    },
    {
      "metadata": {
        "id": "qBsmKg-w334x",
        "colab_type": "code",
        "outputId": "948afcb7-10cf-489d-fce9-c2f4fb17c97c",
        "colab": {
          "base_uri": "https://localhost:8080/",
          "height": 34
        }
      },
      "cell_type": "code",
      "source": [
        "set(data.Label)"
      ],
      "execution_count": 44,
      "outputs": [
        {
          "output_type": "execute_result",
          "data": {
            "text/plain": [
              "{'Electron', 'Ghost', 'Kaon', 'Muon', 'Pion', 'Proton'}"
            ]
          },
          "metadata": {
            "tags": []
          },
          "execution_count": 44
        }
      ]
    },
    {
      "metadata": {
        "id": "OlEcf9zM335A",
        "colab_type": "text"
      },
      "cell_type": "markdown",
      "source": [
        "Convert the particle types into class numbers."
      ]
    },
    {
      "metadata": {
        "id": "_NpvaN7Y335D",
        "colab_type": "code",
        "outputId": "4d3d0790-5015-4448-ab70-b0de9abe3f62",
        "colab": {
          "base_uri": "https://localhost:8080/",
          "height": 34
        }
      },
      "cell_type": "code",
      "source": [
        "data['Class'] = utils.get_class_ids(data.Label.values)\n",
        "set(data.Class)"
      ],
      "execution_count": 45,
      "outputs": [
        {
          "output_type": "execute_result",
          "data": {
            "text/plain": [
              "{0, 1, 2, 3, 4, 5}"
            ]
          },
          "metadata": {
            "tags": []
          },
          "execution_count": 45
        }
      ]
    },
    {
      "metadata": {
        "id": "lJ7ml1zy335a",
        "colab_type": "text"
      },
      "cell_type": "markdown",
      "source": [
        "### Define training features\n",
        "\n",
        "The following set of features describe particle responses in the detector systems:\n",
        "\n",
        "![features](https://github.com/subhrajyotidasgupta/hadron-collider-machine-learning/blob/master/week2/pic/features.jpeg?raw=1)\n",
        "\n",
        "Also there are several combined features. The full list is following."
      ]
    },
    {
      "metadata": {
        "id": "hQfzUeEG335h",
        "colab_type": "code",
        "outputId": "66823301-7db9-47d8-b5fa-68a62ac6199d",
        "colab": {
          "base_uri": "https://localhost:8080/",
          "height": 840
        }
      },
      "cell_type": "code",
      "source": [
        "features = list(set(data.columns) - {'Label', 'Class'})\n",
        "features"
      ],
      "execution_count": 46,
      "outputs": [
        {
          "output_type": "execute_result",
          "data": {
            "text/plain": [
              "['FlagSpd',\n",
              " 'FlagRICH2',\n",
              " 'PrsDLLbeElectron',\n",
              " 'TrackQualityPerNDoF',\n",
              " 'FlagBrem',\n",
              " 'HcalE',\n",
              " 'TrackNDoFSubdetector2',\n",
              " 'RICHpFlagMuon',\n",
              " 'EcalDLLbeMuon',\n",
              " 'FlagHcal',\n",
              " 'EcalDLLbeElectron',\n",
              " 'RICH_DLLbeKaon',\n",
              " 'RICHpFlagProton',\n",
              " 'MuonFlag',\n",
              " 'TrackQualitySubdetector2',\n",
              " 'DLLmuon',\n",
              " 'FlagPrs',\n",
              " 'GhostProbability',\n",
              " 'TrackDistanceToZ',\n",
              " 'TrackPt',\n",
              " 'DLLproton',\n",
              " 'MuonLooseFlag',\n",
              " 'BremDLLbeElectron',\n",
              " 'RICH_DLLbeElectron',\n",
              " 'RICH_DLLbeProton',\n",
              " 'TrackNDoF',\n",
              " 'Calo2dFitQuality',\n",
              " 'FlagEcal',\n",
              " 'DLLkaon',\n",
              " 'SpdE',\n",
              " 'EcalShowerLongitudinalParameter',\n",
              " 'DLLelectron',\n",
              " 'FlagMuon',\n",
              " 'HcalDLLbeMuon',\n",
              " 'MuonLLbeBCK',\n",
              " 'TrackQualitySubdetector1',\n",
              " 'Calo3dFitQuality',\n",
              " 'HcalDLLbeElectron',\n",
              " 'RICHpFlagElectron',\n",
              " 'RICHpFlagKaon',\n",
              " 'PrsE',\n",
              " 'MuonLLbeMuon',\n",
              " 'RICH_DLLbeBCK',\n",
              " 'EcalE',\n",
              " 'FlagRICH1',\n",
              " 'RICH_DLLbeMuon',\n",
              " 'TrackNDoFSubdetector1',\n",
              " 'TrackP',\n",
              " 'RICHpFlagPion']"
            ]
          },
          "metadata": {
            "tags": []
          },
          "execution_count": 46
        }
      ]
    },
    {
      "metadata": {
        "id": "jXsO5LJd335r",
        "colab_type": "text"
      },
      "cell_type": "markdown",
      "source": [
        "### Divide training data into 2 parts"
      ]
    },
    {
      "metadata": {
        "id": "2dOst5SSTvVR",
        "colab_type": "code",
        "colab": {
          "base_uri": "https://localhost:8080/",
          "height": 244
        },
        "outputId": "f78f4a54-2f18-4439-e55b-b8584981446d"
      },
      "cell_type": "code",
      "source": [
        "data[features].head()"
      ],
      "execution_count": 49,
      "outputs": [
        {
          "output_type": "execute_result",
          "data": {
            "text/html": [
              "<div>\n",
              "<style scoped>\n",
              "    .dataframe tbody tr th:only-of-type {\n",
              "        vertical-align: middle;\n",
              "    }\n",
              "\n",
              "    .dataframe tbody tr th {\n",
              "        vertical-align: top;\n",
              "    }\n",
              "\n",
              "    .dataframe thead th {\n",
              "        text-align: right;\n",
              "    }\n",
              "</style>\n",
              "<table border=\"1\" class=\"dataframe\">\n",
              "  <thead>\n",
              "    <tr style=\"text-align: right;\">\n",
              "      <th></th>\n",
              "      <th>FlagSpd</th>\n",
              "      <th>FlagRICH2</th>\n",
              "      <th>PrsDLLbeElectron</th>\n",
              "      <th>TrackQualityPerNDoF</th>\n",
              "      <th>FlagBrem</th>\n",
              "      <th>HcalE</th>\n",
              "      <th>TrackNDoFSubdetector2</th>\n",
              "      <th>RICHpFlagMuon</th>\n",
              "      <th>EcalDLLbeMuon</th>\n",
              "      <th>FlagHcal</th>\n",
              "      <th>...</th>\n",
              "      <th>RICHpFlagKaon</th>\n",
              "      <th>PrsE</th>\n",
              "      <th>MuonLLbeMuon</th>\n",
              "      <th>RICH_DLLbeBCK</th>\n",
              "      <th>EcalE</th>\n",
              "      <th>FlagRICH1</th>\n",
              "      <th>RICH_DLLbeMuon</th>\n",
              "      <th>TrackNDoFSubdetector1</th>\n",
              "      <th>TrackP</th>\n",
              "      <th>RICHpFlagPion</th>\n",
              "    </tr>\n",
              "  </thead>\n",
              "  <tbody>\n",
              "    <tr>\n",
              "      <th>0</th>\n",
              "      <td>1.0</td>\n",
              "      <td>1.0</td>\n",
              "      <td>-2.730674</td>\n",
              "      <td>1.467550</td>\n",
              "      <td>1.0</td>\n",
              "      <td>5586.589846</td>\n",
              "      <td>15.0</td>\n",
              "      <td>1.0</td>\n",
              "      <td>1.929960</td>\n",
              "      <td>1.0</td>\n",
              "      <td>...</td>\n",
              "      <td>1.0</td>\n",
              "      <td>10.422315</td>\n",
              "      <td>-0.661823</td>\n",
              "      <td>-21.913000</td>\n",
              "      <td>0.000001</td>\n",
              "      <td>1.0</td>\n",
              "      <td>-2.081143e-07</td>\n",
              "      <td>4.0</td>\n",
              "      <td>74791.156263</td>\n",
              "      <td>1.0</td>\n",
              "    </tr>\n",
              "    <tr>\n",
              "      <th>1</th>\n",
              "      <td>1.0</td>\n",
              "      <td>0.0</td>\n",
              "      <td>1.773806</td>\n",
              "      <td>3.570540</td>\n",
              "      <td>1.0</td>\n",
              "      <td>-0.000007</td>\n",
              "      <td>15.0</td>\n",
              "      <td>1.0</td>\n",
              "      <td>-2.061959</td>\n",
              "      <td>0.0</td>\n",
              "      <td>...</td>\n",
              "      <td>0.0</td>\n",
              "      <td>43.334935</td>\n",
              "      <td>-999.000000</td>\n",
              "      <td>-0.703617</td>\n",
              "      <td>1531.542000</td>\n",
              "      <td>1.0</td>\n",
              "      <td>2.771583e+00</td>\n",
              "      <td>10.0</td>\n",
              "      <td>2738.489989</td>\n",
              "      <td>1.0</td>\n",
              "    </tr>\n",
              "    <tr>\n",
              "      <th>2</th>\n",
              "      <td>0.0</td>\n",
              "      <td>0.0</td>\n",
              "      <td>-999.000000</td>\n",
              "      <td>0.826442</td>\n",
              "      <td>0.0</td>\n",
              "      <td>-999.000000</td>\n",
              "      <td>17.0</td>\n",
              "      <td>0.0</td>\n",
              "      <td>-999.000000</td>\n",
              "      <td>0.0</td>\n",
              "      <td>...</td>\n",
              "      <td>0.0</td>\n",
              "      <td>-999.000000</td>\n",
              "      <td>-999.000000</td>\n",
              "      <td>-999.000000</td>\n",
              "      <td>-999.000000</td>\n",
              "      <td>0.0</td>\n",
              "      <td>-9.990000e+02</td>\n",
              "      <td>5.0</td>\n",
              "      <td>2161.409908</td>\n",
              "      <td>0.0</td>\n",
              "    </tr>\n",
              "    <tr>\n",
              "      <th>3</th>\n",
              "      <td>1.0</td>\n",
              "      <td>1.0</td>\n",
              "      <td>-3.053104</td>\n",
              "      <td>1.076721</td>\n",
              "      <td>1.0</td>\n",
              "      <td>4482.803707</td>\n",
              "      <td>20.0</td>\n",
              "      <td>1.0</td>\n",
              "      <td>-3.253981</td>\n",
              "      <td>1.0</td>\n",
              "      <td>...</td>\n",
              "      <td>1.0</td>\n",
              "      <td>2.194175</td>\n",
              "      <td>-999.000000</td>\n",
              "      <td>-47.223118</td>\n",
              "      <td>4385.688000</td>\n",
              "      <td>1.0</td>\n",
              "      <td>-3.070819e+00</td>\n",
              "      <td>9.0</td>\n",
              "      <td>15277.730490</td>\n",
              "      <td>1.0</td>\n",
              "    </tr>\n",
              "    <tr>\n",
              "      <th>4</th>\n",
              "      <td>1.0</td>\n",
              "      <td>0.0</td>\n",
              "      <td>-2.730648</td>\n",
              "      <td>0.439767</td>\n",
              "      <td>1.0</td>\n",
              "      <td>5107.554680</td>\n",
              "      <td>19.0</td>\n",
              "      <td>1.0</td>\n",
              "      <td>-0.995816</td>\n",
              "      <td>1.0</td>\n",
              "      <td>...</td>\n",
              "      <td>0.0</td>\n",
              "      <td>0.000015</td>\n",
              "      <td>-999.000000</td>\n",
              "      <td>15.304688</td>\n",
              "      <td>1220.930044</td>\n",
              "      <td>1.0</td>\n",
              "      <td>-5.373712e+00</td>\n",
              "      <td>5.0</td>\n",
              "      <td>7563.700195</td>\n",
              "      <td>1.0</td>\n",
              "    </tr>\n",
              "  </tbody>\n",
              "</table>\n",
              "<p>5 rows × 49 columns</p>\n",
              "</div>"
            ],
            "text/plain": [
              "   FlagSpd  FlagRICH2  PrsDLLbeElectron  TrackQualityPerNDoF  FlagBrem  \\\n",
              "0      1.0        1.0         -2.730674             1.467550       1.0   \n",
              "1      1.0        0.0          1.773806             3.570540       1.0   \n",
              "2      0.0        0.0       -999.000000             0.826442       0.0   \n",
              "3      1.0        1.0         -3.053104             1.076721       1.0   \n",
              "4      1.0        0.0         -2.730648             0.439767       1.0   \n",
              "\n",
              "         HcalE  TrackNDoFSubdetector2  RICHpFlagMuon  EcalDLLbeMuon  FlagHcal  \\\n",
              "0  5586.589846                   15.0            1.0       1.929960       1.0   \n",
              "1    -0.000007                   15.0            1.0      -2.061959       0.0   \n",
              "2  -999.000000                   17.0            0.0    -999.000000       0.0   \n",
              "3  4482.803707                   20.0            1.0      -3.253981       1.0   \n",
              "4  5107.554680                   19.0            1.0      -0.995816       1.0   \n",
              "\n",
              "       ...        RICHpFlagKaon        PrsE  MuonLLbeMuon  RICH_DLLbeBCK  \\\n",
              "0      ...                  1.0   10.422315     -0.661823     -21.913000   \n",
              "1      ...                  0.0   43.334935   -999.000000      -0.703617   \n",
              "2      ...                  0.0 -999.000000   -999.000000    -999.000000   \n",
              "3      ...                  1.0    2.194175   -999.000000     -47.223118   \n",
              "4      ...                  0.0    0.000015   -999.000000      15.304688   \n",
              "\n",
              "         EcalE  FlagRICH1  RICH_DLLbeMuon  TrackNDoFSubdetector1  \\\n",
              "0     0.000001        1.0   -2.081143e-07                    4.0   \n",
              "1  1531.542000        1.0    2.771583e+00                   10.0   \n",
              "2  -999.000000        0.0   -9.990000e+02                    5.0   \n",
              "3  4385.688000        1.0   -3.070819e+00                    9.0   \n",
              "4  1220.930044        1.0   -5.373712e+00                    5.0   \n",
              "\n",
              "         TrackP  RICHpFlagPion  \n",
              "0  74791.156263            1.0  \n",
              "1   2738.489989            1.0  \n",
              "2   2161.409908            0.0  \n",
              "3  15277.730490            1.0  \n",
              "4   7563.700195            1.0  \n",
              "\n",
              "[5 rows x 49 columns]"
            ]
          },
          "metadata": {
            "tags": []
          },
          "execution_count": 49
        }
      ]
    },
    {
      "metadata": {
        "id": "7lQ2kE7ySj6J",
        "colab_type": "code",
        "colab": {}
      },
      "cell_type": "code",
      "source": [
        "from sklearn.preprocessing import StandardScaler\n",
        "scaler = StandardScaler()\n",
        "scaler.fit(data[features])\n",
        "scaled_data = pandas.DataFrame(scaler.transform(data[features]))\n",
        "scaled_data.columns = features\n",
        "scaled_data = scaled_data.join(data['Class'])"
      ],
      "execution_count": 0,
      "outputs": []
    },
    {
      "metadata": {
        "id": "5PuBjb59-h8Z",
        "colab_type": "code",
        "outputId": "6d5ece19-a312-47bb-d618-f6263424b763",
        "colab": {
          "base_uri": "https://localhost:8080/",
          "height": 244
        }
      },
      "cell_type": "code",
      "source": [
        "scaled_data.head()"
      ],
      "execution_count": 83,
      "outputs": [
        {
          "output_type": "execute_result",
          "data": {
            "text/html": [
              "<div>\n",
              "<style scoped>\n",
              "    .dataframe tbody tr th:only-of-type {\n",
              "        vertical-align: middle;\n",
              "    }\n",
              "\n",
              "    .dataframe tbody tr th {\n",
              "        vertical-align: top;\n",
              "    }\n",
              "\n",
              "    .dataframe thead th {\n",
              "        text-align: right;\n",
              "    }\n",
              "</style>\n",
              "<table border=\"1\" class=\"dataframe\">\n",
              "  <thead>\n",
              "    <tr style=\"text-align: right;\">\n",
              "      <th></th>\n",
              "      <th>FlagSpd</th>\n",
              "      <th>FlagRICH2</th>\n",
              "      <th>PrsDLLbeElectron</th>\n",
              "      <th>TrackQualityPerNDoF</th>\n",
              "      <th>FlagBrem</th>\n",
              "      <th>HcalE</th>\n",
              "      <th>TrackNDoFSubdetector2</th>\n",
              "      <th>RICHpFlagMuon</th>\n",
              "      <th>EcalDLLbeMuon</th>\n",
              "      <th>FlagHcal</th>\n",
              "      <th>...</th>\n",
              "      <th>PrsE</th>\n",
              "      <th>MuonLLbeMuon</th>\n",
              "      <th>RICH_DLLbeBCK</th>\n",
              "      <th>EcalE</th>\n",
              "      <th>FlagRICH1</th>\n",
              "      <th>RICH_DLLbeMuon</th>\n",
              "      <th>TrackNDoFSubdetector1</th>\n",
              "      <th>TrackP</th>\n",
              "      <th>RICHpFlagPion</th>\n",
              "      <th>Class</th>\n",
              "    </tr>\n",
              "  </thead>\n",
              "  <tbody>\n",
              "    <tr>\n",
              "      <th>0</th>\n",
              "      <td>0.414814</td>\n",
              "      <td>0.996025</td>\n",
              "      <td>0.414803</td>\n",
              "      <td>0.294663</td>\n",
              "      <td>0.512778</td>\n",
              "      <td>0.349519</td>\n",
              "      <td>0.061490</td>\n",
              "      <td>0.297396</td>\n",
              "      <td>0.479850</td>\n",
              "      <td>0.554401</td>\n",
              "      <td>...</td>\n",
              "      <td>0.397680</td>\n",
              "      <td>2.060854</td>\n",
              "      <td>0.140071</td>\n",
              "      <td>-0.410208</td>\n",
              "      <td>0.448614</td>\n",
              "      <td>0.229091</td>\n",
              "      <td>-0.705555</td>\n",
              "      <td>2.101859</td>\n",
              "      <td>0.405376</td>\n",
              "      <td>3</td>\n",
              "    </tr>\n",
              "    <tr>\n",
              "      <th>1</th>\n",
              "      <td>0.414814</td>\n",
              "      <td>-1.003991</td>\n",
              "      <td>0.427494</td>\n",
              "      <td>3.648808</td>\n",
              "      <td>0.512778</td>\n",
              "      <td>-0.377292</td>\n",
              "      <td>0.061490</td>\n",
              "      <td>0.297396</td>\n",
              "      <td>0.469492</td>\n",
              "      <td>-1.803749</td>\n",
              "      <td>...</td>\n",
              "      <td>0.488374</td>\n",
              "      <td>-0.485301</td>\n",
              "      <td>0.238662</td>\n",
              "      <td>-0.142461</td>\n",
              "      <td>0.448614</td>\n",
              "      <td>0.241996</td>\n",
              "      <td>1.220242</td>\n",
              "      <td>-0.480336</td>\n",
              "      <td>0.405376</td>\n",
              "      <td>1</td>\n",
              "    </tr>\n",
              "    <tr>\n",
              "      <th>2</th>\n",
              "      <td>-2.410719</td>\n",
              "      <td>-1.003991</td>\n",
              "      <td>-2.392225</td>\n",
              "      <td>-0.727866</td>\n",
              "      <td>-1.950162</td>\n",
              "      <td>-0.507261</td>\n",
              "      <td>0.556776</td>\n",
              "      <td>-3.362522</td>\n",
              "      <td>-2.117299</td>\n",
              "      <td>-1.803749</td>\n",
              "      <td>...</td>\n",
              "      <td>-2.383883</td>\n",
              "      <td>-0.485301</td>\n",
              "      <td>-4.401884</td>\n",
              "      <td>-0.584854</td>\n",
              "      <td>-2.229090</td>\n",
              "      <td>-4.422604</td>\n",
              "      <td>-0.384589</td>\n",
              "      <td>-0.501017</td>\n",
              "      <td>-2.466846</td>\n",
              "      <td>1</td>\n",
              "    </tr>\n",
              "    <tr>\n",
              "      <th>3</th>\n",
              "      <td>0.414814</td>\n",
              "      <td>0.996025</td>\n",
              "      <td>0.413894</td>\n",
              "      <td>-0.328686</td>\n",
              "      <td>0.512778</td>\n",
              "      <td>0.205918</td>\n",
              "      <td>1.299705</td>\n",
              "      <td>0.297396</td>\n",
              "      <td>0.466399</td>\n",
              "      <td>0.554401</td>\n",
              "      <td>...</td>\n",
              "      <td>0.375006</td>\n",
              "      <td>-0.485301</td>\n",
              "      <td>0.022418</td>\n",
              "      <td>0.356505</td>\n",
              "      <td>0.448614</td>\n",
              "      <td>0.214792</td>\n",
              "      <td>0.899276</td>\n",
              "      <td>-0.030960</td>\n",
              "      <td>0.405376</td>\n",
              "      <td>4</td>\n",
              "    </tr>\n",
              "    <tr>\n",
              "      <th>4</th>\n",
              "      <td>0.414814</td>\n",
              "      <td>-1.003991</td>\n",
              "      <td>0.414803</td>\n",
              "      <td>-1.344590</td>\n",
              "      <td>0.512778</td>\n",
              "      <td>0.287197</td>\n",
              "      <td>1.052062</td>\n",
              "      <td>0.297396</td>\n",
              "      <td>0.472259</td>\n",
              "      <td>0.554401</td>\n",
              "      <td>...</td>\n",
              "      <td>0.368960</td>\n",
              "      <td>-0.485301</td>\n",
              "      <td>0.313076</td>\n",
              "      <td>-0.196763</td>\n",
              "      <td>0.448614</td>\n",
              "      <td>0.204069</td>\n",
              "      <td>-0.384589</td>\n",
              "      <td>-0.307412</td>\n",
              "      <td>0.405376</td>\n",
              "      <td>5</td>\n",
              "    </tr>\n",
              "  </tbody>\n",
              "</table>\n",
              "<p>5 rows × 50 columns</p>\n",
              "</div>"
            ],
            "text/plain": [
              "    FlagSpd  FlagRICH2  PrsDLLbeElectron  TrackQualityPerNDoF  FlagBrem  \\\n",
              "0  0.414814   0.996025          0.414803             0.294663  0.512778   \n",
              "1  0.414814  -1.003991          0.427494             3.648808  0.512778   \n",
              "2 -2.410719  -1.003991         -2.392225            -0.727866 -1.950162   \n",
              "3  0.414814   0.996025          0.413894            -0.328686  0.512778   \n",
              "4  0.414814  -1.003991          0.414803            -1.344590  0.512778   \n",
              "\n",
              "      HcalE  TrackNDoFSubdetector2  RICHpFlagMuon  EcalDLLbeMuon  FlagHcal  \\\n",
              "0  0.349519               0.061490       0.297396       0.479850  0.554401   \n",
              "1 -0.377292               0.061490       0.297396       0.469492 -1.803749   \n",
              "2 -0.507261               0.556776      -3.362522      -2.117299 -1.803749   \n",
              "3  0.205918               1.299705       0.297396       0.466399  0.554401   \n",
              "4  0.287197               1.052062       0.297396       0.472259  0.554401   \n",
              "\n",
              "   ...        PrsE  MuonLLbeMuon  RICH_DLLbeBCK     EcalE  FlagRICH1  \\\n",
              "0  ...    0.397680      2.060854       0.140071 -0.410208   0.448614   \n",
              "1  ...    0.488374     -0.485301       0.238662 -0.142461   0.448614   \n",
              "2  ...   -2.383883     -0.485301      -4.401884 -0.584854  -2.229090   \n",
              "3  ...    0.375006     -0.485301       0.022418  0.356505   0.448614   \n",
              "4  ...    0.368960     -0.485301       0.313076 -0.196763   0.448614   \n",
              "\n",
              "   RICH_DLLbeMuon  TrackNDoFSubdetector1    TrackP  RICHpFlagPion  Class  \n",
              "0        0.229091              -0.705555  2.101859       0.405376      3  \n",
              "1        0.241996               1.220242 -0.480336       0.405376      1  \n",
              "2       -4.422604              -0.384589 -0.501017      -2.466846      1  \n",
              "3        0.214792               0.899276 -0.030960       0.405376      4  \n",
              "4        0.204069              -0.384589 -0.307412       0.405376      5  \n",
              "\n",
              "[5 rows x 50 columns]"
            ]
          },
          "metadata": {
            "tags": []
          },
          "execution_count": 83
        }
      ]
    },
    {
      "metadata": {
        "id": "zPyvE9M8U5Ps",
        "colab_type": "code",
        "colab": {
          "base_uri": "https://localhost:8080/",
          "height": 252
        },
        "outputId": "8114b68b-5407-45ba-9ffd-583f87a54857"
      },
      "cell_type": "code",
      "source": [
        "scaled_data.columns\n",
        "#scaled_data['Class'].head()"
      ],
      "execution_count": 84,
      "outputs": [
        {
          "output_type": "execute_result",
          "data": {
            "text/plain": [
              "Index(['FlagSpd', 'FlagRICH2', 'PrsDLLbeElectron', 'TrackQualityPerNDoF',\n",
              "       'FlagBrem', 'HcalE', 'TrackNDoFSubdetector2', 'RICHpFlagMuon',\n",
              "       'EcalDLLbeMuon', 'FlagHcal', 'EcalDLLbeElectron', 'RICH_DLLbeKaon',\n",
              "       'RICHpFlagProton', 'MuonFlag', 'TrackQualitySubdetector2', 'DLLmuon',\n",
              "       'FlagPrs', 'GhostProbability', 'TrackDistanceToZ', 'TrackPt',\n",
              "       'DLLproton', 'MuonLooseFlag', 'BremDLLbeElectron', 'RICH_DLLbeElectron',\n",
              "       'RICH_DLLbeProton', 'TrackNDoF', 'Calo2dFitQuality', 'FlagEcal',\n",
              "       'DLLkaon', 'SpdE', 'EcalShowerLongitudinalParameter', 'DLLelectron',\n",
              "       'FlagMuon', 'HcalDLLbeMuon', 'MuonLLbeBCK', 'TrackQualitySubdetector1',\n",
              "       'Calo3dFitQuality', 'HcalDLLbeElectron', 'RICHpFlagElectron',\n",
              "       'RICHpFlagKaon', 'PrsE', 'MuonLLbeMuon', 'RICH_DLLbeBCK', 'EcalE',\n",
              "       'FlagRICH1', 'RICH_DLLbeMuon', 'TrackNDoFSubdetector1', 'TrackP',\n",
              "       'RICHpFlagPion', 'Class'],\n",
              "      dtype='object')"
            ]
          },
          "metadata": {
            "tags": []
          },
          "execution_count": 84
        }
      ]
    },
    {
      "metadata": {
        "id": "J2HX1Fyl335y",
        "colab_type": "code",
        "outputId": "c05a6db0-2517-4ea6-8bac-3dd3c182b9a3",
        "colab": {
          "base_uri": "https://localhost:8080/",
          "height": 70
        }
      },
      "cell_type": "code",
      "source": [
        "training_data, validation_data = train_test_split(scaled_data, random_state=11, train_size=0.90)"
      ],
      "execution_count": 85,
      "outputs": [
        {
          "output_type": "stream",
          "text": [
            "/usr/local/lib/python3.6/dist-packages/sklearn/model_selection/_split.py:2179: FutureWarning: From version 0.21, test_size will always complement train_size unless both are specified.\n",
            "  FutureWarning)\n"
          ],
          "name": "stderr"
        }
      ]
    },
    {
      "metadata": {
        "id": "1r3ZMLkv3354",
        "colab_type": "code",
        "outputId": "d5421a7c-f89e-4eb4-c05f-fee19155dec1",
        "colab": {
          "base_uri": "https://localhost:8080/",
          "height": 34
        }
      },
      "cell_type": "code",
      "source": [
        "len(training_data), len(validation_data)"
      ],
      "execution_count": 86,
      "outputs": [
        {
          "output_type": "execute_result",
          "data": {
            "text/plain": [
              "(1080000, 120000)"
            ]
          },
          "metadata": {
            "tags": []
          },
          "execution_count": 86
        }
      ]
    },
    {
      "metadata": {
        "id": "A9XuQcj6336H",
        "colab_type": "text"
      },
      "cell_type": "markdown",
      "source": [
        "# Sklearn classifier\n",
        "\n",
        "On this step your task is to train **Sklearn** classifier to provide lower **log loss** value.\n",
        "\n",
        "\n",
        "TASK: your task is to tune the classifier parameters to achieve the lowest **log loss** value on the validation sample you can."
      ]
    },
    {
      "metadata": {
        "id": "t_Wb8emg336T",
        "colab_type": "code",
        "colab": {}
      },
      "cell_type": "code",
      "source": [
        "from sklearn.ensemble import GradientBoostingClassifier"
      ],
      "execution_count": 0,
      "outputs": []
    },
    {
      "metadata": {
        "id": "auHEtNKi336s",
        "colab_type": "code",
        "outputId": "411712ee-fddb-454a-a1f5-5693793bbb5c",
        "colab": {}
      },
      "cell_type": "code",
      "source": [
        "%%time \n",
        "gb = GradientBoostingClassifier(learning_rate=0.1, n_estimators=50, subsample=0.3, random_state=13,\n",
        "                                min_samples_leaf=100, max_depth=3)\n",
        "gb.fit(training_data[features].values, training_data.Class.values)"
      ],
      "execution_count": 0,
      "outputs": [
        {
          "output_type": "stream",
          "text": [
            "CPU times: user 1min 22s, sys: 32 ms, total: 1min 22s\n",
            "Wall time: 1min 22s\n"
          ],
          "name": "stdout"
        }
      ]
    },
    {
      "metadata": {
        "id": "Wk7kjxjJ3361",
        "colab_type": "text"
      },
      "cell_type": "markdown",
      "source": [
        "### Log loss on the cross validation sample"
      ]
    },
    {
      "metadata": {
        "id": "lfxG7gMF3362",
        "colab_type": "code",
        "colab": {}
      },
      "cell_type": "code",
      "source": [
        "# predict each track\n",
        "proba_gb = gb.predict_proba(validation_data[features].values)"
      ],
      "execution_count": 0,
      "outputs": []
    },
    {
      "metadata": {
        "id": "BesgPnci337F",
        "colab_type": "code",
        "outputId": "532614eb-7b55-4a22-8d0f-0dcb78039bca",
        "colab": {}
      },
      "cell_type": "code",
      "source": [
        "log_loss(validation_data.Class.values, proba_gb)"
      ],
      "execution_count": 0,
      "outputs": [
        {
          "output_type": "execute_result",
          "data": {
            "text/plain": [
              "0.66903316252217382"
            ]
          },
          "metadata": {
            "tags": []
          },
          "execution_count": 12
        }
      ]
    },
    {
      "metadata": {
        "id": "AKdoR53N337T",
        "colab_type": "text"
      },
      "cell_type": "markdown",
      "source": [
        "# Keras neural network\n",
        "\n",
        "On this step your task is to train **Keras** NN classifier to provide lower **log loss** value.\n",
        "\n",
        "\n",
        "TASK: your task is to tune the classifier parameters to achieve the lowest **log loss** value on the validation sample you can. Data preprocessing may help you to improve your score."
      ]
    },
    {
      "metadata": {
        "id": "NzpHjOeh337X",
        "colab_type": "code",
        "colab": {}
      },
      "cell_type": "code",
      "source": [
        "from keras.layers.core import Dense, Activation\n",
        "from keras.models import Sequential\n",
        "from keras.optimizers import Adam\n",
        "from keras.utils import np_utils"
      ],
      "execution_count": 0,
      "outputs": []
    },
    {
      "metadata": {
        "id": "wYuvT2K_337m",
        "colab_type": "code",
        "colab": {}
      },
      "cell_type": "code",
      "source": [
        "def nn_model(input_dim):\n",
        "    model = Sequential()\n",
        "    model.add(Dense(1050, input_dim=input_dim))\n",
        "    model.add(Activation('tanh'))\n",
        "    \n",
        "    #model.add(Dense(500))\n",
        "    #model.add(Activation('tanh'))\n",
        "\n",
        "    model.add(Dense(6))\n",
        "    model.add(Activation('softmax'))\n",
        "\n",
        "    model.compile(loss='categorical_crossentropy', optimizer=Adam())\n",
        "    return model"
      ],
      "execution_count": 0,
      "outputs": []
    },
    {
      "metadata": {
        "id": "XcNKDQjU337r",
        "colab_type": "code",
        "outputId": "f9b38462-3638-403e-8a6d-a52742b2b17c",
        "colab": {
          "base_uri": "https://localhost:8080/",
          "height": 759
        }
      },
      "cell_type": "code",
      "source": [
        "nn = nn_model(len(features))\n",
        "nn.fit(training_data[features].values, np_utils.to_categorical(training_data.Class.values), verbose=1, nb_epoch=20, batch_size=256)"
      ],
      "execution_count": 90,
      "outputs": [
        {
          "output_type": "stream",
          "text": [
            "/usr/local/lib/python3.6/dist-packages/ipykernel_launcher.py:2: UserWarning: The `nb_epoch` argument in `fit` has been renamed `epochs`.\n",
            "  \n"
          ],
          "name": "stderr"
        },
        {
          "output_type": "stream",
          "text": [
            "Epoch 1/20\n",
            "1080000/1080000 [==============================] - 31s 29us/step - loss: 0.7223\n",
            "Epoch 2/20\n",
            "1080000/1080000 [==============================] - 30s 27us/step - loss: 0.6514\n",
            "Epoch 3/20\n",
            "1080000/1080000 [==============================] - 31s 28us/step - loss: 0.6329\n",
            "Epoch 4/20\n",
            "1080000/1080000 [==============================] - 31s 28us/step - loss: 0.6210\n",
            "Epoch 5/20\n",
            "1080000/1080000 [==============================] - 28s 26us/step - loss: 0.6125\n",
            "Epoch 6/20\n",
            "1080000/1080000 [==============================] - 29s 27us/step - loss: 0.6062\n",
            "Epoch 7/20\n",
            "1080000/1080000 [==============================] - 29s 27us/step - loss: 0.6017\n",
            "Epoch 8/20\n",
            "1080000/1080000 [==============================] - 28s 26us/step - loss: 0.5979\n",
            "Epoch 9/20\n",
            "1080000/1080000 [==============================] - 28s 26us/step - loss: 0.5946\n",
            "Epoch 10/20\n",
            "1080000/1080000 [==============================] - 29s 27us/step - loss: 0.5918\n",
            "Epoch 11/20\n",
            "1080000/1080000 [==============================] - 33s 30us/step - loss: 0.5894\n",
            "Epoch 12/20\n",
            "1080000/1080000 [==============================] - 33s 31us/step - loss: 0.5872\n",
            "Epoch 13/20\n",
            "1080000/1080000 [==============================] - 34s 32us/step - loss: 0.5856\n",
            "Epoch 14/20\n",
            "1080000/1080000 [==============================] - 33s 31us/step - loss: 0.5838\n",
            "Epoch 15/20\n",
            "1080000/1080000 [==============================] - 33s 31us/step - loss: 0.5824\n",
            "Epoch 16/20\n",
            "1080000/1080000 [==============================] - 34s 31us/step - loss: 0.5813\n",
            "Epoch 17/20\n",
            "1080000/1080000 [==============================] - 33s 31us/step - loss: 0.5801\n",
            "Epoch 18/20\n",
            "1080000/1080000 [==============================] - 33s 30us/step - loss: 0.5793\n",
            "Epoch 19/20\n",
            "1080000/1080000 [==============================] - 33s 30us/step - loss: 0.5782\n",
            "Epoch 20/20\n",
            "1080000/1080000 [==============================] - 33s 30us/step - loss: 0.5773\n"
          ],
          "name": "stdout"
        },
        {
          "output_type": "execute_result",
          "data": {
            "text/plain": [
              "<keras.callbacks.History at 0x7fbbc29415c0>"
            ]
          },
          "metadata": {
            "tags": []
          },
          "execution_count": 90
        }
      ]
    },
    {
      "metadata": {
        "id": "AGzXEGr4337z",
        "colab_type": "text"
      },
      "cell_type": "markdown",
      "source": [
        "### Log loss on the cross validation sample"
      ]
    },
    {
      "metadata": {
        "id": "SF2iRMR-3372",
        "colab_type": "code",
        "colab": {}
      },
      "cell_type": "code",
      "source": [
        "# predict each track\n",
        "proba_nn = nn.predict_proba(validation_data[features].values)"
      ],
      "execution_count": 0,
      "outputs": []
    },
    {
      "metadata": {
        "id": "djvIN0fu337-",
        "colab_type": "code",
        "outputId": "c8c83f7a-3ba5-4a8d-ba20-55ff5f988de7",
        "colab": {
          "base_uri": "https://localhost:8080/",
          "height": 34
        }
      },
      "cell_type": "code",
      "source": [
        "log_loss(validation_data.Class.values, proba_nn)"
      ],
      "execution_count": 92,
      "outputs": [
        {
          "output_type": "execute_result",
          "data": {
            "text/plain": [
              "0.5812984455095342"
            ]
          },
          "metadata": {
            "tags": []
          },
          "execution_count": 92
        }
      ]
    },
    {
      "metadata": {
        "id": "Ux0I3_nI338J",
        "colab_type": "text"
      },
      "cell_type": "markdown",
      "source": [
        "# Quality metrics\n",
        "\n",
        "Plot ROC curves and signal efficiency dependece from particle mometum and transverse momentum values."
      ]
    },
    {
      "metadata": {
        "id": "iZPaL57F338L",
        "colab_type": "code",
        "colab": {}
      },
      "cell_type": "code",
      "source": [
        "proba = proba_nn"
      ],
      "execution_count": 0,
      "outputs": []
    },
    {
      "metadata": {
        "id": "ROyPx6pJ338f",
        "colab_type": "code",
        "outputId": "3595dc17-1f62-41bd-adec-934e71264fe7",
        "colab": {
          "base_uri": "https://localhost:8080/",
          "height": 413
        }
      },
      "cell_type": "code",
      "source": [
        "utils.plot_roc_curves(proba, validation_data.Class.values)"
      ],
      "execution_count": 94,
      "outputs": [
        {
          "output_type": "display_data",
          "data": {
            "image/png": "[encoded data removed]",
            "text/plain": [
              "<Figure size 648x432 with 1 Axes>"
            ]
          },
          "metadata": {
            "tags": []
          }
        }
      ]
    },
    {
      "metadata": {
        "id": "YL7xaFYY338r",
        "colab_type": "code",
        "outputId": "959e3eca-6c4f-4b9d-c109-c9ff8e304928",
        "colab": {
          "base_uri": "https://localhost:8080/",
          "height": 765
        }
      },
      "cell_type": "code",
      "source": [
        "utils.plot_signal_efficiency_on_p(proba, validation_data.Class.values, validation_data.TrackP.values, 60, 50)\n",
        "plt.show()"
      ],
      "execution_count": 95,
      "outputs": [
        {
          "output_type": "display_data",
          "data": {
            "image/png": "[encoded data removed]",
            "text/plain": [
              "<Figure size 792x756 with 6 Axes>"
            ]
          },
          "metadata": {
            "tags": []
          }
        }
      ]
    },
    {
      "metadata": {
        "id": "HgjB3wci3384",
        "colab_type": "code",
        "outputId": "3c2ba8fc-2113-45ea-ae06-c6cde43cdcc1",
        "colab": {
          "base_uri": "https://localhost:8080/",
          "height": 765
        }
      },
      "cell_type": "code",
      "source": [
        "utils.plot_signal_efficiency_on_pt(proba, validation_data.Class.values, validation_data.TrackPt.values, 60, 50)\n",
        "plt.show()"
      ],
      "execution_count": 96,
      "outputs": [
        {
          "output_type": "display_data",
          "data": {
            "image/png": "[encoded data removed]",
            "text/plain": [
              "<Figure size 792x756 with 6 Axes>"
            ]
          },
          "metadata": {
            "tags": []
          }
        }
      ]
    },
    {
      "metadata": {
        "id": "RmT9fwac339G",
        "colab_type": "text"
      },
      "cell_type": "markdown",
      "source": [
        "# Prepare submission\n",
        "\n",
        "Select your best classifier and prepare submission file."
      ]
    },
    {
      "metadata": {
        "id": "WKoJMABl339M",
        "colab_type": "code",
        "colab": {}
      },
      "cell_type": "code",
      "source": [
        "test = pandas.read_csv('https://github.com/hse-aml/hadron-collider-machine-learning/releases/download/Week_2/test.csv.gz')"
      ],
      "execution_count": 0,
      "outputs": []
    },
    {
      "metadata": {
        "id": "6X3Ue3BF339a",
        "colab_type": "code",
        "colab": {}
      },
      "cell_type": "code",
      "source": [
        "best_model = nn"
      ],
      "execution_count": 0,
      "outputs": []
    },
    {
      "metadata": {
        "id": "YAsl7Jzqnd3_",
        "colab_type": "code",
        "colab": {
          "base_uri": "https://localhost:8080/",
          "height": 252
        },
        "outputId": "14d32d63-713f-43b3-8eb2-e517355b872a"
      },
      "cell_type": "code",
      "source": [
        "test.columns"
      ],
      "execution_count": 102,
      "outputs": [
        {
          "output_type": "execute_result",
          "data": {
            "text/plain": [
              "Index(['TrackP', 'TrackNDoFSubdetector2', 'BremDLLbeElectron', 'MuonLooseFlag',\n",
              "       'FlagSpd', 'SpdE', 'EcalDLLbeElectron', 'DLLmuon', 'RICHpFlagElectron',\n",
              "       'EcalDLLbeMuon', 'TrackQualitySubdetector2', 'FlagPrs', 'DLLelectron',\n",
              "       'DLLkaon', 'EcalE', 'TrackQualityPerNDoF', 'DLLproton',\n",
              "       'PrsDLLbeElectron', 'FlagRICH1', 'MuonLLbeBCK', 'FlagHcal',\n",
              "       'EcalShowerLongitudinalParameter', 'Calo2dFitQuality', 'TrackPt',\n",
              "       'TrackDistanceToZ', 'RICHpFlagPion', 'HcalDLLbeElectron',\n",
              "       'Calo3dFitQuality', 'FlagEcal', 'MuonLLbeMuon', 'TrackNDoFSubdetector1',\n",
              "       'RICHpFlagProton', 'RICHpFlagKaon', 'GhostProbability',\n",
              "       'TrackQualitySubdetector1', 'RICH_DLLbeBCK', 'FlagRICH2', 'FlagBrem',\n",
              "       'HcalDLLbeMuon', 'TrackNDoF', 'RICHpFlagMuon', 'RICH_DLLbeKaon',\n",
              "       'RICH_DLLbeElectron', 'HcalE', 'MuonFlag', 'FlagMuon', 'PrsE',\n",
              "       'RICH_DLLbeMuon', 'RICH_DLLbeProton', 'ID'],\n",
              "      dtype='object')"
            ]
          },
          "metadata": {
            "tags": []
          },
          "execution_count": 102
        }
      ]
    },
    {
      "metadata": {
        "id": "uaBExMS833-M",
        "colab_type": "code",
        "colab": {}
      },
      "cell_type": "code",
      "source": [
        "# predict test sample\n",
        "submit_proba = best_model.predict_proba(test[features])\n",
        "submit_ids = test.ID"
      ],
      "execution_count": 0,
      "outputs": []
    },
    {
      "metadata": {
        "id": "6Yo0xySK33-R",
        "colab_type": "code",
        "outputId": "7cd361e3-e89f-4344-f7aa-83a55b43a11b",
        "colab": {
          "base_uri": "https://localhost:8080/",
          "height": 34
        }
      },
      "cell_type": "code",
      "source": [
        "from IPython.display import FileLink\n",
        "utils.create_solution(submit_ids, submit_proba, filename='submission_file.csv.gz')"
      ],
      "execution_count": 105,
      "outputs": [
        {
          "output_type": "execute_result",
          "data": {
            "text/html": [
              "<a href='submission_file.csv.gz' target='_blank'>submission_file.csv.gz</a><br>"
            ],
            "text/plain": [
              "/content/submission_file.csv.gz"
            ]
          },
          "metadata": {
            "tags": []
          },
          "execution_count": 105
        }
      ]
    }
  ]
}